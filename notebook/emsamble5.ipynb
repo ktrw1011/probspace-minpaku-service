{
 "cells": [
  {
   "cell_type": "code",
   "execution_count": null,
   "metadata": {},
   "outputs": [],
   "source": [
    "import pickle\n",
    "from pathlib import Path\n",
    "\n",
    "import numpy as np\n",
    "import pandas as pd\n",
    "from scipy.optimize import minimize\n",
    "\n",
    "from sklearn.metrics import mean_squared_log_error, mean_squared_error\n",
    "from sklearn.linear_model import Ridge\n",
    "from sklearn.preprocessing import StandardScaler"
   ]
  },
  {
   "cell_type": "code",
   "execution_count": null,
   "metadata": {},
   "outputs": [],
   "source": [
    "train_df = pd.read_csv(\"../input/train_data.csv\")\n",
    "sub_df = pd.read_csv(\"../input/submission.csv\")"
   ]
  },
  {
   "cell_type": "code",
   "execution_count": null,
   "metadata": {},
   "outputs": [],
   "source": [
    "def rmsle(y, pred):\n",
    "    return np.sqrt(mean_squared_log_error(y, pred))"
   ]
  },
  {
   "cell_type": "code",
   "execution_count": null,
   "metadata": {},
   "outputs": [],
   "source": [
    "def load_preds(path):\n",
    "    if isinstance(path, str):\n",
    "        path = Path(path)\n",
    "\n",
    "    with open(path/\"oof_val_embedding.pkl\", \"rb\") as f:\n",
    "        val_pred = pickle.load(f)\n",
    "        val_pred = val_pred.reshape(-1, 1)\n",
    "\n",
    "    with open(path/\"oof_test_embedding.pkl\", \"rb\") as f:\n",
    "        test_pred = pickle.load(f)\n",
    "        test_pred = test_pred.reshape(-1, 1)\n",
    "\n",
    "    preds = np.vstack([val_pred, test_pred])\n",
    "\n",
    "    preds = pd.DataFrame(preds)\n",
    "    preds.columns = [\"exp010_pred\"]\n",
    "    return preds"
   ]
  },
  {
   "cell_type": "code",
   "execution_count": null,
   "metadata": {},
   "outputs": [],
   "source": [
    "treemodel_all_val_preds = []\n",
    "treemodel_all_test_preds = []\n",
    "\n",
    "with open(\"../output/exp007/oof_val_pred.pkl\", \"rb\") as f:\n",
    "    treemodel_all_val_preds.append(pickle.load(f))\n",
    "\n",
    "treemodel_all_val_preds.append(pd.read_csv(\"../output/takahashi/220429_j_012_pred_oof.csv\")[\"FOLD_mean\"].values.reshape(-1, 1))\n",
    "\n",
    "with open(\"../output/exp007/oof_test_pred.pkl\", \"rb\") as f:\n",
    "    treemodel_all_test_preds.append(pickle.load(f))\n",
    "\n",
    "treemodel_all_test_preds.append(pd.read_csv(\"../output/takahashi/220429_j_012_submission.csv\")[\"y\"].values.reshape(-1, 1))\n",
    "\n",
    "treemodel_all_val_preds = np.hstack(treemodel_all_val_preds)\n",
    "treemodel_all_test_preds = np.hstack(treemodel_all_test_preds)"
   ]
  },
  {
   "cell_type": "code",
   "execution_count": null,
   "metadata": {},
   "outputs": [],
   "source": [
    "rmsle(train_df[\"y\"].values, np.mean(treemodel_all_val_preds[:, :2], axis=1))"
   ]
  },
  {
   "cell_type": "code",
   "execution_count": null,
   "metadata": {},
   "outputs": [],
   "source": [
    "all_oof_val_preds = []\n",
    "all_oof_test_preds = []\n",
    "exps = [\n",
    "    \"exp012\",\n",
    "    \"exp013\",\n",
    "    \"exp014\",\n",
    "    \"exp015\",\n",
    "    \"exp016\",\n",
    "    \"exp019\",\n",
    "]\n",
    "for exp_name in exps:\n",
    "    with open(f\"../output/{exp_name}/oof_val_preds.pkl\", \"rb\") as f:\n",
    "        preds = pickle.load(f)\n",
    "        score = rmsle(train_df[\"y\"].values, preds)\n",
    "        print(f\"{exp_name}: score: {score:5f}\")\n",
    "        all_oof_val_preds.append(preds)\n",
    "        \n",
    "    with open(f\"../output/{exp_name}/oof_test_preds.pkl\", \"rb\") as f:\n",
    "        all_oof_test_preds.append(pickle.load(f))"
   ]
  },
  {
   "cell_type": "code",
   "execution_count": null,
   "metadata": {},
   "outputs": [],
   "source": [
    "all_oof_val_preds = np.array(all_oof_val_preds).T\n",
    "all_oof_test_preds = np.array(all_oof_test_preds).T"
   ]
  },
  {
   "cell_type": "code",
   "execution_count": null,
   "metadata": {},
   "outputs": [],
   "source": [
    "rmsle(train_df[\"y\"].values, all_oof_val_preds.mean(axis=1))"
   ]
  },
  {
   "cell_type": "code",
   "execution_count": null,
   "metadata": {},
   "outputs": [],
   "source": [
    "all_oof_val_preds = np.hstack([all_oof_val_preds, treemodel_all_val_preds])\n",
    "all_oof_test_preds = np.hstack([all_oof_test_preds, treemodel_all_test_preds])"
   ]
  },
  {
   "cell_type": "code",
   "execution_count": null,
   "metadata": {},
   "outputs": [],
   "source": [
    "print(all_oof_val_preds.shape)"
   ]
  },
  {
   "cell_type": "code",
   "execution_count": null,
   "metadata": {},
   "outputs": [],
   "source": [
    "print(all_oof_test_preds.shape)"
   ]
  },
  {
   "cell_type": "code",
   "execution_count": null,
   "metadata": {},
   "outputs": [],
   "source": [
    "def func(weights):\n",
    "    pred = (all_oof_val_preds * weights).sum(axis=1)\n",
    "    score = rmsle(train_df[\"y\"].values, pred)\n",
    "    return score\n",
    "\n",
    "n_models = all_oof_val_preds.shape[1]\n",
    "initial_weights = np.ones(n_models) / n_models\n",
    "res = minimize(func, initial_weights, method='Nelder-Mead')\n",
    "res[\"fun\"]"
   ]
  },
  {
   "cell_type": "code",
   "execution_count": null,
   "metadata": {},
   "outputs": [],
   "source": [
    "res[\"x\"]"
   ]
  },
  {
   "cell_type": "code",
   "execution_count": null,
   "metadata": {},
   "outputs": [],
   "source": [
    "rmsle(train_df[\"y\"].values, np.average(all_oof_val_preds, axis=1, weights=res[\"x\"]))"
   ]
  },
  {
   "cell_type": "code",
   "execution_count": null,
   "metadata": {},
   "outputs": [],
   "source": [
    "all_oof_test_preds = np.average(all_oof_test_preds, axis=1, weights=res[\"x\"])"
   ]
  },
  {
   "cell_type": "code",
   "execution_count": null,
   "metadata": {},
   "outputs": [],
   "source": [
    "sub_df[\"y\"] = all_oof_test_preds"
   ]
  },
  {
   "cell_type": "code",
   "execution_count": null,
   "metadata": {},
   "outputs": [],
   "source": [
    "sub_df.to_csv(\"../output/watanabe_exp_7_12_13_14_15_16_19_tk.csv\", index=False)"
   ]
  }
 ],
 "metadata": {
  "interpreter": {
   "hash": "39ce37081880c9d1ce70c0dbb4b73e871e03a7cdbcaeb5f6a8fef84c04f6d073"
  },
  "kernelspec": {
   "display_name": "Python 3.9.0 ('.venv': venv)",
   "language": "python",
   "name": "python3"
  },
  "language_info": {
   "codemirror_mode": {
    "name": "ipython",
    "version": 3
   },
   "file_extension": ".py",
   "mimetype": "text/x-python",
   "name": "python",
   "nbconvert_exporter": "python",
   "pygments_lexer": "ipython3",
   "version": "3.9.0"
  },
  "orig_nbformat": 4
 },
 "nbformat": 4,
 "nbformat_minor": 2
}
