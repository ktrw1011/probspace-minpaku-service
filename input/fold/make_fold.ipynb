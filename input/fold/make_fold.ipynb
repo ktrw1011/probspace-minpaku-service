{
 "cells": [
  {
   "cell_type": "code",
   "execution_count": 1,
   "id": "d7117515-5f8b-455a-8af8-5d55f76671a3",
   "metadata": {},
   "outputs": [],
   "source": [
    "import pickle\n",
    "import numpy as np\n",
    "import pandas as pd\n",
    "from sklearn.model_selection import KFold, StratifiedKFold, StratifiedGroupKFold"
   ]
  },
  {
   "cell_type": "code",
   "execution_count": 2,
   "id": "ea3d8b0e-8925-4d73-8499-4e989b6ed8f4",
   "metadata": {},
   "outputs": [],
   "source": [
    "train_df = pd.read_csv(\"../input/train_data.csv\")"
   ]
  },
  {
   "cell_type": "markdown",
   "id": "0301fd4d-6bdc-4f0a-b1d2-7a2eda19875a",
   "metadata": {},
   "source": [
    "KFold"
   ]
  },
  {
   "cell_type": "code",
   "execution_count": 3,
   "id": "48611177-b0a2-447f-adc6-a7fe4da096d2",
   "metadata": {},
   "outputs": [
    {
     "name": "stdout",
     "output_type": "stream",
     "text": [
      "train mean:24992.4114\ttrain std: 70737.6275\n",
      "train mean:25480.4119\ttrain std: 57829.7005\n",
      "train mean:24872.8532\ttrain std: 76782.3726\n",
      "train mean:25319.7887\ttrain std: 58769.1163\n",
      "train mean:24857.7500\ttrain std: 69173.3416\n"
     ]
    }
   ],
   "source": [
    "cv = list(KFold(n_splits=5, shuffle=True, random_state=42).split(train_df))\n",
    "for trn_idx, val_idx in cv:\n",
    "    trn_df = train_df.iloc[trn_idx]\n",
    "    val_df = train_df.iloc[val_idx]\n",
    "    print(f\"train mean:{trn_df['y'].mean():.4f}\\ttrain std: {val_df['y'].std():.4f}\")"
   ]
  },
  {
   "cell_type": "code",
   "execution_count": 4,
   "id": "8f8122b8-6e3e-4080-ad42-6a90d434b30e",
   "metadata": {},
   "outputs": [],
   "source": [
    "with open(\"kfold.pkl\", \"wb\") as f:\n",
    "    pickle.dump(cv, f)"
   ]
  },
  {
   "cell_type": "markdown",
   "id": "6c9b5f93-ccab-49b5-961c-07229a7ba467",
   "metadata": {},
   "source": [
    "StratifiedKfold"
   ]
  },
  {
   "cell_type": "code",
   "execution_count": 5,
   "id": "5176bed1-c27a-495d-ab28-8d05087693b9",
   "metadata": {},
   "outputs": [],
   "source": [
    "q = 300\n",
    "train_df['y_bin'] = pd.qcut(train_df['y'], q=q, labels=np.arange(q))"
   ]
  },
  {
   "cell_type": "code",
   "execution_count": 6,
   "id": "31e1df7d-00cd-4857-b97e-fe5d5af85044",
   "metadata": {},
   "outputs": [],
   "source": [
    "cv = list(StratifiedKFold(n_splits=5, shuffle=True, random_state=42).split(train_df, train_df['y_bin']))"
   ]
  },
  {
   "cell_type": "code",
   "execution_count": 7,
   "id": "70f4ddf2-6e6a-436a-bb8a-647dd443e6ce",
   "metadata": {},
   "outputs": [
    {
     "name": "stdout",
     "output_type": "stream",
     "text": [
      "train mean:25071.5867\ttrain std: 68204.2854\n",
      "train mean:25001.9816\ttrain std: 68526.1685\n",
      "train mean:25293.0173\ttrain std: 61921.7738\n",
      "train mean:25114.2810\ttrain std: 66429.8926\n",
      "train mean:25042.3486\ttrain std: 69940.7115\n"
     ]
    }
   ],
   "source": [
    "for trn_idx, val_idx in cv:\n",
    "    trn_df = train_df.iloc[trn_idx]\n",
    "    val_df = train_df.iloc[val_idx]\n",
    "    print(f\"train mean:{trn_df['y'].mean():.4f}\\ttrain std: {val_df['y'].std():.4f}\")"
   ]
  },
  {
   "cell_type": "code",
   "execution_count": 8,
   "id": "dd51801e-bab8-49f2-95c3-3d4178385417",
   "metadata": {},
   "outputs": [],
   "source": [
    "with open(\"skfold_bin300.pkl\", \"wb\") as f:\n",
    "    pickle.dump(cv, f)"
   ]
  },
  {
   "cell_type": "markdown",
   "id": "8c657f70-e2a1-498e-974c-1306d6513d0f",
   "metadata": {},
   "source": [
    "StratifiledGorupKfold"
   ]
  },
  {
   "cell_type": "code",
   "execution_count": 9,
   "id": "89354938-872d-49e6-989e-08977b469d1e",
   "metadata": {},
   "outputs": [],
   "source": [
    "q = 300\n",
    "train_df['y_bin'] = pd.qcut(train_df['y'], q=q, labels=np.arange(q))"
   ]
  },
  {
   "cell_type": "code",
   "execution_count": 10,
   "id": "f8cc7848-d91f-4316-b149-4e8b96b9dc9c",
   "metadata": {},
   "outputs": [],
   "source": [
    "cv = list(StratifiedGroupKFold(n_splits=5, shuffle=True, random_state=42).split(train_df, train_df['y_bin'], groups=train_df[\"host_id\"]))"
   ]
  },
  {
   "cell_type": "code",
   "execution_count": 11,
   "id": "ab27fc9c-2180-4e74-adad-cc98db351f1a",
   "metadata": {},
   "outputs": [
    {
     "name": "stdout",
     "output_type": "stream",
     "text": [
      "train mean:23282.7947\ttrain std: 103611.5562\n",
      "train mean:26327.8855\ttrain std: 38228.8756\n",
      "train mean:24567.5683\ttrain std: 73355.0854\n",
      "train mean:26673.7777\ttrain std: 38433.0699\n",
      "train mean:24616.4733\ttrain std: 51031.5105\n"
     ]
    }
   ],
   "source": [
    "for trn_idx, val_idx in cv:\n",
    "    trn_df = train_df.iloc[trn_idx]\n",
    "    val_df = train_df.iloc[val_idx]\n",
    "    print(f\"train mean:{trn_df['y'].mean():.4f}\\ttrain std: {val_df['y'].std():.4f}\")"
   ]
  },
  {
   "cell_type": "code",
   "execution_count": 12,
   "id": "03d10d03-7f5b-4507-be39-e29d01dccc92",
   "metadata": {},
   "outputs": [],
   "source": [
    "with open(\"sgkfold_bin300.pkl\", \"wb\") as f:\n",
    "    pickle.dump(cv, f)"
   ]
  },
  {
   "cell_type": "code",
   "execution_count": null,
   "id": "1f5315d8-cbfd-43c2-9e2f-cec54ea03eef",
   "metadata": {},
   "outputs": [],
   "source": []
  }
 ],
 "metadata": {
  "kernelspec": {
   "display_name": "Python 3 (ipykernel)",
   "language": "python",
   "name": "python3"
  },
  "language_info": {
   "codemirror_mode": {
    "name": "ipython",
    "version": 3
   },
   "file_extension": ".py",
   "mimetype": "text/x-python",
   "name": "python",
   "nbconvert_exporter": "python",
   "pygments_lexer": "ipython3",
   "version": "3.9.5"
  }
 },
 "nbformat": 4,
 "nbformat_minor": 5
}
